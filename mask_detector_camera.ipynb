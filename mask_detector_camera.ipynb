{
 "cells": [
  {
   "cell_type": "code",
   "execution_count": 2,
   "metadata": {},
   "outputs": [],
   "source": [
    "from tensorflow.keras.applications.mobilenet_v2 import preprocess_input\n",
    "from tensorflow.keras.models import load_model\n",
    "import numpy as np\n",
    "import cv2\n",
    "import matplotlib.pyplot as plt\n",
    "import os"
   ]
  },
  {
   "cell_type": "code",
   "execution_count": 3,
   "metadata": {},
   "outputs": [],
   "source": [
    "facenet = cv2.dnn.readNet('mask_model/deploy.prototxt.txt', 'mask_model/res10_300x300_ssd_iter_140000.caffemodel')\n",
    "model = load_model('mask_model/mask_detector.model')"
   ]
  },
  {
   "cell_type": "markdown",
   "metadata": {},
   "source": [
    "#### detect masks from face in Real-Time Camera"
   ]
  },
  {
   "cell_type": "code",
   "execution_count": 4,
   "metadata": {},
   "outputs": [],
   "source": [
    "cap = cv2.VideoCapture(0)\n",
    "\n",
    "while cap.isOpened():\n",
    "    ret, frame = cap.read()\n",
    "    if not ret:\n",
    "        print('camera load failed')\n",
    "        break\n",
    "    \n",
    "    h, w = frame.shape[:2]\n",
    "\n",
    "    blob = cv2.dnn.blobFromImage(frame, scalefactor=1., size=(300, 300), mean=(104., 177., 123.))\n",
    "    facenet.setInput(blob)\n",
    "    dets = facenet.forward()\n",
    "\n",
    "    for i in range(dets.shape[2]):\n",
    "        confidence = dets[0, 0, i, 2]\n",
    "        if confidence < 0.5:\n",
    "            continue\n",
    "\n",
    "        x1 = int(dets[0, 0, i, 3] * w)\n",
    "        y1 = int(dets[0, 0, i, 4] * h)\n",
    "        x2 = int(dets[0, 0, i, 5] * w)\n",
    "        y2 = int(dets[0, 0, i, 6] * h)\n",
    "        \n",
    "        face = frame[y1:y2, x1:x2]\n",
    "\n",
    "        face_input = cv2.resize(face, dsize=(224, 224))\n",
    "        face_input = cv2.cvtColor(face_input, cv2.COLOR_BGR2RGB)\n",
    "        face_input = preprocess_input(face_input)\n",
    "        face_input = np.expand_dims(face_input, axis=0)\n",
    "        \n",
    "        mask, nomask = model.predict(face_input).squeeze()\n",
    "\n",
    "        if mask > nomask:\n",
    "            color = (0, 255, 0)\n",
    "            label = 'Mask %d%%' % (mask * 100)\n",
    "        else:\n",
    "            color = (0, 0, 255)\n",
    "            label = 'No Mask %d%%' % (nomask * 100)\n",
    "            \n",
    "        cv2.rectangle(frame, pt1=(x1, y1), pt2=(x2, y2), thickness=2, color=color, lineType=cv2.LINE_AA)\n",
    "        cv2.putText(frame, text=label, org=(x1, y1 - 10), fontFace=cv2.FONT_HERSHEY_SIMPLEX, fontScale=0.8, color=color, thickness=2, lineType=cv2.LINE_AA)\n",
    "\n",
    "    cv2.imshow('frame', frame)\n",
    "    if cv2.waitKey(1)==27:\n",
    "        break\n",
    "        \n",
    "cap.release()\n",
    "cv2.destroyAllWindows()"
   ]
  },
  {
   "cell_type": "code",
   "execution_count": null,
   "metadata": {},
   "outputs": [],
   "source": []
  }
 ],
 "metadata": {
  "kernelspec": {
   "display_name": "Python 3",
   "language": "python",
   "name": "python3"
  },
  "language_info": {
   "codemirror_mode": {
    "name": "ipython",
    "version": 3
   },
   "file_extension": ".py",
   "mimetype": "text/x-python",
   "name": "python",
   "nbconvert_exporter": "python",
   "pygments_lexer": "ipython3",
   "version": "3.7.6"
  }
 },
 "nbformat": 4,
 "nbformat_minor": 4
}
